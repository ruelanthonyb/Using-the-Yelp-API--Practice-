{
 "cells": [
  {
   "cell_type": "markdown",
   "id": "f2347cad",
   "metadata": {},
   "source": [
    "## Using the Yelp API (Practice)\n",
    "For this assignment, you will practice with the Yelp API and the concept of pagination.\n",
    "\n",
    "* Use your API credentials to access the Yelp API\n",
    "* You can choose the location and search term (food), but it must return more than 20 results so you can practice pagination!\n",
    "* Obtain ONLY the first two pages of results\n",
    "* Concatenate the results into one data frame\n",
    "* Save the businesses as a records-oriented JSON file with an informative filename. (df.to_json(\"yelp-search-new-york-pizza.json\", orient='records'))"
   ]
  },
  {
   "cell_type": "code",
   "execution_count": 23,
   "id": "0423e847",
   "metadata": {},
   "outputs": [],
   "source": [
    "from yelpapi import YelpAPI\n",
    "import json, os\n",
    "import pandas as pd"
   ]
  },
  {
   "cell_type": "markdown",
   "id": "d56d6186",
   "metadata": {},
   "source": [
    "### Load Credentials and Create Yelp API Object"
   ]
  },
  {
   "cell_type": "code",
   "execution_count": 13,
   "id": "ef4118d2",
   "metadata": {},
   "outputs": [
    {
     "data": {
      "text/plain": [
       "dict_keys(['client-id', 'api-key'])"
      ]
     },
     "execution_count": 13,
     "metadata": {},
     "output_type": "execute_result"
    }
   ],
   "source": [
    "# Load API Credentials\n",
    "with open(r\"C:\\Users\\bandi\\.secret\\yelp_api.json\") as f:\n",
    "    login = json.load(f)\n",
    "login.keys()"
   ]
  },
  {
   "cell_type": "code",
   "execution_count": 14,
   "id": "8fc50720",
   "metadata": {},
   "outputs": [
    {
     "data": {
      "text/plain": [
       "<yelpapi.yelpapi.YelpAPI at 0x1dcc357c610>"
      ]
     },
     "execution_count": 14,
     "metadata": {},
     "output_type": "execute_result"
    }
   ],
   "source": [
    "# Instantiate YelpAPI Variable\n",
    "yelp_api = YelpAPI(login['api-key'], timeout_s = 5.0)\n",
    "yelp_api"
   ]
  },
  {
   "cell_type": "markdown",
   "id": "8a2c2e00",
   "metadata": {},
   "source": [
    "### Define Search Terms and File Paths"
   ]
  },
  {
   "cell_type": "code",
   "execution_count": 15,
   "id": "d4d75207",
   "metadata": {},
   "outputs": [
    {
     "name": "stdout",
     "output_type": "stream",
     "text": [
      "<class 'dict'>\n"
     ]
    },
    {
     "data": {
      "text/plain": [
       "dict_keys(['businesses', 'total', 'region'])"
      ]
     },
     "execution_count": 15,
     "metadata": {},
     "output_type": "execute_result"
    }
   ],
   "source": [
    "results = yelp_api.search_query(location='New York, NY',\n",
    "                                       term='Pizza')\n",
    "print(type(results))\n",
    "results.keys()"
   ]
  },
  {
   "cell_type": "code",
   "execution_count": 16,
   "id": "60864d50",
   "metadata": {},
   "outputs": [
    {
     "data": {
      "text/html": [
       "<div>\n",
       "<style scoped>\n",
       "    .dataframe tbody tr th:only-of-type {\n",
       "        vertical-align: middle;\n",
       "    }\n",
       "\n",
       "    .dataframe tbody tr th {\n",
       "        vertical-align: top;\n",
       "    }\n",
       "\n",
       "    .dataframe thead th {\n",
       "        text-align: right;\n",
       "    }\n",
       "</style>\n",
       "<table border=\"1\" class=\"dataframe\">\n",
       "  <thead>\n",
       "    <tr style=\"text-align: right;\">\n",
       "      <th></th>\n",
       "      <th>id</th>\n",
       "      <th>alias</th>\n",
       "      <th>name</th>\n",
       "      <th>image_url</th>\n",
       "      <th>is_closed</th>\n",
       "      <th>url</th>\n",
       "      <th>review_count</th>\n",
       "      <th>categories</th>\n",
       "      <th>rating</th>\n",
       "      <th>coordinates</th>\n",
       "      <th>transactions</th>\n",
       "      <th>price</th>\n",
       "      <th>location</th>\n",
       "      <th>phone</th>\n",
       "      <th>display_phone</th>\n",
       "      <th>distance</th>\n",
       "    </tr>\n",
       "  </thead>\n",
       "  <tbody>\n",
       "    <tr>\n",
       "      <th>0</th>\n",
       "      <td>ysqgdbSrezXgVwER2kQWKA</td>\n",
       "      <td>julianas-brooklyn-3</td>\n",
       "      <td>Juliana's</td>\n",
       "      <td>https://s3-media2.fl.yelpcdn.com/bphoto/od36nF...</td>\n",
       "      <td>False</td>\n",
       "      <td>https://www.yelp.com/biz/julianas-brooklyn-3?a...</td>\n",
       "      <td>2746</td>\n",
       "      <td>[{'alias': 'pizza', 'title': 'Pizza'}]</td>\n",
       "      <td>4.4</td>\n",
       "      <td>{'latitude': 40.70274718768062, 'longitude': -...</td>\n",
       "      <td>[delivery]</td>\n",
       "      <td>$$</td>\n",
       "      <td>{'address1': '19 Old Fulton St', 'address2': '...</td>\n",
       "      <td>+17185966700</td>\n",
       "      <td>(718) 596-6700</td>\n",
       "      <td>308.569844</td>\n",
       "    </tr>\n",
       "    <tr>\n",
       "      <th>1</th>\n",
       "      <td>zj8Lq1T8KIC5zwFief15jg</td>\n",
       "      <td>prince-street-pizza-new-york-2</td>\n",
       "      <td>Prince Street Pizza</td>\n",
       "      <td>https://s3-media4.fl.yelpcdn.com/bphoto/Yugen5...</td>\n",
       "      <td>False</td>\n",
       "      <td>https://www.yelp.com/biz/prince-street-pizza-n...</td>\n",
       "      <td>5210</td>\n",
       "      <td>[{'alias': 'pizza', 'title': 'Pizza'}, {'alias...</td>\n",
       "      <td>4.3</td>\n",
       "      <td>{'latitude': 40.72308755605564, 'longitude': -...</td>\n",
       "      <td>[pickup, delivery]</td>\n",
       "      <td>$</td>\n",
       "      <td>{'address1': '27 Prince St', 'address2': None,...</td>\n",
       "      <td>+12129664100</td>\n",
       "      <td>(212) 966-4100</td>\n",
       "      <td>1961.877142</td>\n",
       "    </tr>\n",
       "  </tbody>\n",
       "</table>\n",
       "</div>"
      ],
      "text/plain": [
       "                       id                           alias  \\\n",
       "0  ysqgdbSrezXgVwER2kQWKA             julianas-brooklyn-3   \n",
       "1  zj8Lq1T8KIC5zwFief15jg  prince-street-pizza-new-york-2   \n",
       "\n",
       "                  name                                          image_url  \\\n",
       "0            Juliana's  https://s3-media2.fl.yelpcdn.com/bphoto/od36nF...   \n",
       "1  Prince Street Pizza  https://s3-media4.fl.yelpcdn.com/bphoto/Yugen5...   \n",
       "\n",
       "   is_closed                                                url  review_count  \\\n",
       "0      False  https://www.yelp.com/biz/julianas-brooklyn-3?a...          2746   \n",
       "1      False  https://www.yelp.com/biz/prince-street-pizza-n...          5210   \n",
       "\n",
       "                                          categories  rating  \\\n",
       "0             [{'alias': 'pizza', 'title': 'Pizza'}]     4.4   \n",
       "1  [{'alias': 'pizza', 'title': 'Pizza'}, {'alias...     4.3   \n",
       "\n",
       "                                         coordinates        transactions  \\\n",
       "0  {'latitude': 40.70274718768062, 'longitude': -...          [delivery]   \n",
       "1  {'latitude': 40.72308755605564, 'longitude': -...  [pickup, delivery]   \n",
       "\n",
       "  price                                           location         phone  \\\n",
       "0    $$  {'address1': '19 Old Fulton St', 'address2': '...  +17185966700   \n",
       "1     $  {'address1': '27 Prince St', 'address2': None,...  +12129664100   \n",
       "\n",
       "    display_phone     distance  \n",
       "0  (718) 596-6700   308.569844  \n",
       "1  (212) 966-4100  1961.877142  "
      ]
     },
     "execution_count": 16,
     "metadata": {},
     "output_type": "execute_result"
    }
   ],
   "source": [
    "pizza = pd.DataFrame(results['businesses'])\n",
    "pizza.head(2) "
   ]
  },
  {
   "cell_type": "code",
   "execution_count": 17,
   "id": "b397f949",
   "metadata": {},
   "outputs": [
    {
     "data": {
      "text/plain": [
       "12700"
      ]
     },
     "execution_count": 17,
     "metadata": {},
     "output_type": "execute_result"
    }
   ],
   "source": [
    "## total number of matching businesses\n",
    "results['total']"
   ]
  },
  {
   "cell_type": "code",
   "execution_count": 18,
   "id": "6bb0b4be",
   "metadata": {},
   "outputs": [
    {
     "data": {
      "text/plain": [
       "20"
      ]
     },
     "execution_count": 18,
     "metadata": {},
     "output_type": "execute_result"
    }
   ],
   "source": [
    "## how many businesses in our results\n",
    "len(results['businesses'])"
   ]
  },
  {
   "cell_type": "code",
   "execution_count": 19,
   "id": "727e14b9",
   "metadata": {},
   "outputs": [],
   "source": [
    "# add offset to our original api call\n",
    "results = yelp_api.search_query(location='New York, NY',\n",
    "                                       term='Pizza',\n",
    "                                       offset = 20)"
   ]
  },
  {
   "cell_type": "code",
   "execution_count": 20,
   "id": "3e7ef034",
   "metadata": {
    "scrolled": true
   },
   "outputs": [
    {
     "data": {
      "text/html": [
       "<div>\n",
       "<style scoped>\n",
       "    .dataframe tbody tr th:only-of-type {\n",
       "        vertical-align: middle;\n",
       "    }\n",
       "\n",
       "    .dataframe tbody tr th {\n",
       "        vertical-align: top;\n",
       "    }\n",
       "\n",
       "    .dataframe thead th {\n",
       "        text-align: right;\n",
       "    }\n",
       "</style>\n",
       "<table border=\"1\" class=\"dataframe\">\n",
       "  <thead>\n",
       "    <tr style=\"text-align: right;\">\n",
       "      <th></th>\n",
       "      <th>id</th>\n",
       "      <th>alias</th>\n",
       "      <th>name</th>\n",
       "      <th>image_url</th>\n",
       "      <th>is_closed</th>\n",
       "      <th>url</th>\n",
       "      <th>review_count</th>\n",
       "      <th>categories</th>\n",
       "      <th>rating</th>\n",
       "      <th>coordinates</th>\n",
       "      <th>transactions</th>\n",
       "      <th>price</th>\n",
       "      <th>location</th>\n",
       "      <th>phone</th>\n",
       "      <th>display_phone</th>\n",
       "      <th>distance</th>\n",
       "    </tr>\n",
       "  </thead>\n",
       "  <tbody>\n",
       "    <tr>\n",
       "      <th>0</th>\n",
       "      <td>S4uozcDEieoaXxIJ6TsUoQ</td>\n",
       "      <td>dellaroccos-brick-oven-pizza-brooklyn-2</td>\n",
       "      <td>Dellarocco's Brick Oven Pizza</td>\n",
       "      <td>https://s3-media2.fl.yelpcdn.com/bphoto/9oqFYb...</td>\n",
       "      <td>False</td>\n",
       "      <td>https://www.yelp.com/biz/dellaroccos-brick-ove...</td>\n",
       "      <td>372</td>\n",
       "      <td>[{'alias': 'pizza', 'title': 'Pizza'}, {'alias...</td>\n",
       "      <td>4.1</td>\n",
       "      <td>{'latitude': 40.6950309, 'longitude': -73.9961...</td>\n",
       "      <td>[pickup, delivery]</td>\n",
       "      <td>$$</td>\n",
       "      <td>{'address1': '214 Hicks St', 'address2': None,...</td>\n",
       "      <td>+17188581010</td>\n",
       "      <td>(718) 858-1010</td>\n",
       "      <td>1170.270033</td>\n",
       "    </tr>\n",
       "    <tr>\n",
       "      <th>1</th>\n",
       "      <td>GRXvvB1OKMuW4XDWEaVAlg</td>\n",
       "      <td>joes-pizza-brooklyn-8</td>\n",
       "      <td>Joe's Pizza</td>\n",
       "      <td>https://s3-media3.fl.yelpcdn.com/bphoto/0WEXB_...</td>\n",
       "      <td>False</td>\n",
       "      <td>https://www.yelp.com/biz/joes-pizza-brooklyn-8...</td>\n",
       "      <td>468</td>\n",
       "      <td>[{'alias': 'pizza', 'title': 'Pizza'}]</td>\n",
       "      <td>4.0</td>\n",
       "      <td>{'latitude': 40.7168952, 'longitude': -73.9589...</td>\n",
       "      <td>[pickup, delivery]</td>\n",
       "      <td>$</td>\n",
       "      <td>{'address1': '216 Bedford Ave', 'address2': ''...</td>\n",
       "      <td>+17183882216</td>\n",
       "      <td>(718) 388-2216</td>\n",
       "      <td>3241.190355</td>\n",
       "    </tr>\n",
       "  </tbody>\n",
       "</table>\n",
       "</div>"
      ],
      "text/plain": [
       "                       id                                    alias  \\\n",
       "0  S4uozcDEieoaXxIJ6TsUoQ  dellaroccos-brick-oven-pizza-brooklyn-2   \n",
       "1  GRXvvB1OKMuW4XDWEaVAlg                    joes-pizza-brooklyn-8   \n",
       "\n",
       "                            name  \\\n",
       "0  Dellarocco's Brick Oven Pizza   \n",
       "1                    Joe's Pizza   \n",
       "\n",
       "                                           image_url  is_closed  \\\n",
       "0  https://s3-media2.fl.yelpcdn.com/bphoto/9oqFYb...      False   \n",
       "1  https://s3-media3.fl.yelpcdn.com/bphoto/0WEXB_...      False   \n",
       "\n",
       "                                                 url  review_count  \\\n",
       "0  https://www.yelp.com/biz/dellaroccos-brick-ove...           372   \n",
       "1  https://www.yelp.com/biz/joes-pizza-brooklyn-8...           468   \n",
       "\n",
       "                                          categories  rating  \\\n",
       "0  [{'alias': 'pizza', 'title': 'Pizza'}, {'alias...     4.1   \n",
       "1             [{'alias': 'pizza', 'title': 'Pizza'}]     4.0   \n",
       "\n",
       "                                         coordinates        transactions  \\\n",
       "0  {'latitude': 40.6950309, 'longitude': -73.9961...  [pickup, delivery]   \n",
       "1  {'latitude': 40.7168952, 'longitude': -73.9589...  [pickup, delivery]   \n",
       "\n",
       "  price                                           location         phone  \\\n",
       "0    $$  {'address1': '214 Hicks St', 'address2': None,...  +17188581010   \n",
       "1     $  {'address1': '216 Bedford Ave', 'address2': ''...  +17183882216   \n",
       "\n",
       "    display_phone     distance  \n",
       "0  (718) 858-1010  1170.270033  \n",
       "1  (718) 388-2216  3241.190355  "
      ]
     },
     "execution_count": 20,
     "metadata": {},
     "output_type": "execute_result"
    }
   ],
   "source": [
    "pizza20 = pd.DataFrame(results['businesses'])\n",
    "pizza20.head(2)"
   ]
  },
  {
   "cell_type": "code",
   "execution_count": 21,
   "id": "04fbc047",
   "metadata": {
    "scrolled": false
   },
   "outputs": [
    {
     "data": {
      "text/html": [
       "<div>\n",
       "<style scoped>\n",
       "    .dataframe tbody tr th:only-of-type {\n",
       "        vertical-align: middle;\n",
       "    }\n",
       "\n",
       "    .dataframe tbody tr th {\n",
       "        vertical-align: top;\n",
       "    }\n",
       "\n",
       "    .dataframe thead th {\n",
       "        text-align: right;\n",
       "    }\n",
       "</style>\n",
       "<table border=\"1\" class=\"dataframe\">\n",
       "  <thead>\n",
       "    <tr style=\"text-align: right;\">\n",
       "      <th></th>\n",
       "      <th>id</th>\n",
       "      <th>alias</th>\n",
       "      <th>name</th>\n",
       "      <th>image_url</th>\n",
       "      <th>is_closed</th>\n",
       "      <th>url</th>\n",
       "      <th>review_count</th>\n",
       "      <th>categories</th>\n",
       "      <th>rating</th>\n",
       "      <th>coordinates</th>\n",
       "      <th>transactions</th>\n",
       "      <th>price</th>\n",
       "      <th>location</th>\n",
       "      <th>phone</th>\n",
       "      <th>display_phone</th>\n",
       "      <th>distance</th>\n",
       "    </tr>\n",
       "  </thead>\n",
       "  <tbody>\n",
       "    <tr>\n",
       "      <th>0</th>\n",
       "      <td>ysqgdbSrezXgVwER2kQWKA</td>\n",
       "      <td>julianas-brooklyn-3</td>\n",
       "      <td>Juliana's</td>\n",
       "      <td>https://s3-media2.fl.yelpcdn.com/bphoto/od36nF...</td>\n",
       "      <td>False</td>\n",
       "      <td>https://www.yelp.com/biz/julianas-brooklyn-3?a...</td>\n",
       "      <td>2746</td>\n",
       "      <td>[{'alias': 'pizza', 'title': 'Pizza'}]</td>\n",
       "      <td>4.4</td>\n",
       "      <td>{'latitude': 40.70274718768062, 'longitude': -...</td>\n",
       "      <td>[delivery]</td>\n",
       "      <td>$$</td>\n",
       "      <td>{'address1': '19 Old Fulton St', 'address2': '...</td>\n",
       "      <td>+17185966700</td>\n",
       "      <td>(718) 596-6700</td>\n",
       "      <td>308.569844</td>\n",
       "    </tr>\n",
       "    <tr>\n",
       "      <th>1</th>\n",
       "      <td>zj8Lq1T8KIC5zwFief15jg</td>\n",
       "      <td>prince-street-pizza-new-york-2</td>\n",
       "      <td>Prince Street Pizza</td>\n",
       "      <td>https://s3-media4.fl.yelpcdn.com/bphoto/Yugen5...</td>\n",
       "      <td>False</td>\n",
       "      <td>https://www.yelp.com/biz/prince-street-pizza-n...</td>\n",
       "      <td>5210</td>\n",
       "      <td>[{'alias': 'pizza', 'title': 'Pizza'}, {'alias...</td>\n",
       "      <td>4.3</td>\n",
       "      <td>{'latitude': 40.72308755605564, 'longitude': -...</td>\n",
       "      <td>[pickup, delivery]</td>\n",
       "      <td>$</td>\n",
       "      <td>{'address1': '27 Prince St', 'address2': None,...</td>\n",
       "      <td>+12129664100</td>\n",
       "      <td>(212) 966-4100</td>\n",
       "      <td>1961.877142</td>\n",
       "    </tr>\n",
       "    <tr>\n",
       "      <th>2</th>\n",
       "      <td>v1DHGRNCH9247WLYoaoA9A</td>\n",
       "      <td>l-industrie-pizzeria-brooklyn</td>\n",
       "      <td>L'industrie Pizzeria</td>\n",
       "      <td>https://s3-media1.fl.yelpcdn.com/bphoto/1-VBwA...</td>\n",
       "      <td>False</td>\n",
       "      <td>https://www.yelp.com/biz/l-industrie-pizzeria-...</td>\n",
       "      <td>1256</td>\n",
       "      <td>[{'alias': 'pizza', 'title': 'Pizza'}]</td>\n",
       "      <td>4.7</td>\n",
       "      <td>{'latitude': 40.71162, 'longitude': -73.95783}</td>\n",
       "      <td>[pickup, delivery]</td>\n",
       "      <td>$</td>\n",
       "      <td>{'address1': '254 S 2nd St', 'address2': '', '...</td>\n",
       "      <td>+17185990002</td>\n",
       "      <td>(718) 599-0002</td>\n",
       "      <td>3145.016041</td>\n",
       "    </tr>\n",
       "  </tbody>\n",
       "</table>\n",
       "</div>"
      ],
      "text/plain": [
       "                       id                           alias  \\\n",
       "0  ysqgdbSrezXgVwER2kQWKA             julianas-brooklyn-3   \n",
       "1  zj8Lq1T8KIC5zwFief15jg  prince-street-pizza-new-york-2   \n",
       "2  v1DHGRNCH9247WLYoaoA9A   l-industrie-pizzeria-brooklyn   \n",
       "\n",
       "                   name                                          image_url  \\\n",
       "0             Juliana's  https://s3-media2.fl.yelpcdn.com/bphoto/od36nF...   \n",
       "1   Prince Street Pizza  https://s3-media4.fl.yelpcdn.com/bphoto/Yugen5...   \n",
       "2  L'industrie Pizzeria  https://s3-media1.fl.yelpcdn.com/bphoto/1-VBwA...   \n",
       "\n",
       "   is_closed                                                url  review_count  \\\n",
       "0      False  https://www.yelp.com/biz/julianas-brooklyn-3?a...          2746   \n",
       "1      False  https://www.yelp.com/biz/prince-street-pizza-n...          5210   \n",
       "2      False  https://www.yelp.com/biz/l-industrie-pizzeria-...          1256   \n",
       "\n",
       "                                          categories  rating  \\\n",
       "0             [{'alias': 'pizza', 'title': 'Pizza'}]     4.4   \n",
       "1  [{'alias': 'pizza', 'title': 'Pizza'}, {'alias...     4.3   \n",
       "2             [{'alias': 'pizza', 'title': 'Pizza'}]     4.7   \n",
       "\n",
       "                                         coordinates        transactions  \\\n",
       "0  {'latitude': 40.70274718768062, 'longitude': -...          [delivery]   \n",
       "1  {'latitude': 40.72308755605564, 'longitude': -...  [pickup, delivery]   \n",
       "2     {'latitude': 40.71162, 'longitude': -73.95783}  [pickup, delivery]   \n",
       "\n",
       "  price                                           location         phone  \\\n",
       "0    $$  {'address1': '19 Old Fulton St', 'address2': '...  +17185966700   \n",
       "1     $  {'address1': '27 Prince St', 'address2': None,...  +12129664100   \n",
       "2     $  {'address1': '254 S 2nd St', 'address2': '', '...  +17185990002   \n",
       "\n",
       "    display_phone     distance  \n",
       "0  (718) 596-6700   308.569844  \n",
       "1  (212) 966-4100  1961.877142  \n",
       "2  (718) 599-0002  3145.016041  "
      ]
     },
     "metadata": {},
     "output_type": "display_data"
    },
    {
     "data": {
      "text/html": [
       "<div>\n",
       "<style scoped>\n",
       "    .dataframe tbody tr th:only-of-type {\n",
       "        vertical-align: middle;\n",
       "    }\n",
       "\n",
       "    .dataframe tbody tr th {\n",
       "        vertical-align: top;\n",
       "    }\n",
       "\n",
       "    .dataframe thead th {\n",
       "        text-align: right;\n",
       "    }\n",
       "</style>\n",
       "<table border=\"1\" class=\"dataframe\">\n",
       "  <thead>\n",
       "    <tr style=\"text-align: right;\">\n",
       "      <th></th>\n",
       "      <th>id</th>\n",
       "      <th>alias</th>\n",
       "      <th>name</th>\n",
       "      <th>image_url</th>\n",
       "      <th>is_closed</th>\n",
       "      <th>url</th>\n",
       "      <th>review_count</th>\n",
       "      <th>categories</th>\n",
       "      <th>rating</th>\n",
       "      <th>coordinates</th>\n",
       "      <th>transactions</th>\n",
       "      <th>price</th>\n",
       "      <th>location</th>\n",
       "      <th>phone</th>\n",
       "      <th>display_phone</th>\n",
       "      <th>distance</th>\n",
       "    </tr>\n",
       "  </thead>\n",
       "  <tbody>\n",
       "    <tr>\n",
       "      <th>37</th>\n",
       "      <td>tpcCX_SHaNXqAzXOzbluJQ</td>\n",
       "      <td>fini-pizza-brooklyn</td>\n",
       "      <td>Fini Pizza</td>\n",
       "      <td>https://s3-media1.fl.yelpcdn.com/bphoto/harcCp...</td>\n",
       "      <td>False</td>\n",
       "      <td>https://www.yelp.com/biz/fini-pizza-brooklyn?a...</td>\n",
       "      <td>153</td>\n",
       "      <td>[{'alias': 'pizza', 'title': 'Pizza'}]</td>\n",
       "      <td>4.2</td>\n",
       "      <td>{'latitude': 40.71348, 'longitude': -73.96182}</td>\n",
       "      <td>[]</td>\n",
       "      <td>NaN</td>\n",
       "      <td>{'address1': '305 Bedford Ave', 'address2': ''...</td>\n",
       "      <td>+19299693073</td>\n",
       "      <td>(929) 969-3073</td>\n",
       "      <td>2882.711683</td>\n",
       "    </tr>\n",
       "    <tr>\n",
       "      <th>38</th>\n",
       "      <td>affWh2WFSMayL04l9lr47g</td>\n",
       "      <td>roberta-s-brooklyn</td>\n",
       "      <td>Roberta’s</td>\n",
       "      <td>https://s3-media2.fl.yelpcdn.com/bphoto/POEX_n...</td>\n",
       "      <td>False</td>\n",
       "      <td>https://www.yelp.com/biz/roberta-s-brooklyn?ad...</td>\n",
       "      <td>15</td>\n",
       "      <td>[{'alias': 'pizza', 'title': 'Pizza'}]</td>\n",
       "      <td>4.3</td>\n",
       "      <td>{'latitude': 40.71613781459604, 'longitude': -...</td>\n",
       "      <td>[]</td>\n",
       "      <td>NaN</td>\n",
       "      <td>{'address1': '6 Grand St', 'address2': '', 'ad...</td>\n",
       "      <td>+17182782400</td>\n",
       "      <td>(718) 278-2400</td>\n",
       "      <td>2620.492306</td>\n",
       "    </tr>\n",
       "    <tr>\n",
       "      <th>39</th>\n",
       "      <td>MwcRbM6lS6_8N67LmyBELA</td>\n",
       "      <td>99-cent-fresh-pizza-new-york-5</td>\n",
       "      <td>99 Cent Fresh Pizza</td>\n",
       "      <td>https://s3-media3.fl.yelpcdn.com/bphoto/SKPNh5...</td>\n",
       "      <td>False</td>\n",
       "      <td>https://www.yelp.com/biz/99-cent-fresh-pizza-n...</td>\n",
       "      <td>727</td>\n",
       "      <td>[{'alias': 'pizza', 'title': 'Pizza'}]</td>\n",
       "      <td>4.1</td>\n",
       "      <td>{'latitude': 40.76458, 'longitude': -73.98247}</td>\n",
       "      <td>[pickup, delivery]</td>\n",
       "      <td>$</td>\n",
       "      <td>{'address1': '1723 Broadway', 'address2': '', ...</td>\n",
       "      <td>+12122452155</td>\n",
       "      <td>(212) 245-2155</td>\n",
       "      <td>6652.683138</td>\n",
       "    </tr>\n",
       "  </tbody>\n",
       "</table>\n",
       "</div>"
      ],
      "text/plain": [
       "                        id                           alias  \\\n",
       "37  tpcCX_SHaNXqAzXOzbluJQ             fini-pizza-brooklyn   \n",
       "38  affWh2WFSMayL04l9lr47g              roberta-s-brooklyn   \n",
       "39  MwcRbM6lS6_8N67LmyBELA  99-cent-fresh-pizza-new-york-5   \n",
       "\n",
       "                   name                                          image_url  \\\n",
       "37           Fini Pizza  https://s3-media1.fl.yelpcdn.com/bphoto/harcCp...   \n",
       "38            Roberta’s  https://s3-media2.fl.yelpcdn.com/bphoto/POEX_n...   \n",
       "39  99 Cent Fresh Pizza  https://s3-media3.fl.yelpcdn.com/bphoto/SKPNh5...   \n",
       "\n",
       "    is_closed                                                url  \\\n",
       "37      False  https://www.yelp.com/biz/fini-pizza-brooklyn?a...   \n",
       "38      False  https://www.yelp.com/biz/roberta-s-brooklyn?ad...   \n",
       "39      False  https://www.yelp.com/biz/99-cent-fresh-pizza-n...   \n",
       "\n",
       "    review_count                              categories  rating  \\\n",
       "37           153  [{'alias': 'pizza', 'title': 'Pizza'}]     4.2   \n",
       "38            15  [{'alias': 'pizza', 'title': 'Pizza'}]     4.3   \n",
       "39           727  [{'alias': 'pizza', 'title': 'Pizza'}]     4.1   \n",
       "\n",
       "                                          coordinates        transactions  \\\n",
       "37     {'latitude': 40.71348, 'longitude': -73.96182}                  []   \n",
       "38  {'latitude': 40.71613781459604, 'longitude': -...                  []   \n",
       "39     {'latitude': 40.76458, 'longitude': -73.98247}  [pickup, delivery]   \n",
       "\n",
       "   price                                           location         phone  \\\n",
       "37   NaN  {'address1': '305 Bedford Ave', 'address2': ''...  +19299693073   \n",
       "38   NaN  {'address1': '6 Grand St', 'address2': '', 'ad...  +17182782400   \n",
       "39     $  {'address1': '1723 Broadway', 'address2': '', ...  +12122452155   \n",
       "\n",
       "     display_phone     distance  \n",
       "37  (929) 969-3073  2882.711683  \n",
       "38  (718) 278-2400  2620.492306  \n",
       "39  (212) 245-2155  6652.683138  "
      ]
     },
     "metadata": {},
     "output_type": "display_data"
    }
   ],
   "source": [
    "## concatenate the previous results and new results. \n",
    "results_pizza = pd.concat([pizza, pizza20],\n",
    "                      ignore_index=True)\n",
    "display(results_pizza.head(3), results_pizza.tail(3))"
   ]
  },
  {
   "cell_type": "code",
   "execution_count": 24,
   "id": "5f68464c",
   "metadata": {},
   "outputs": [],
   "source": [
    "# Specify directory and filename\n",
    "directory = 'Data'\n",
    "\n",
    "# Ensure that the 'Data' directory exists\n",
    "os.makedirs(directory, exist_ok = True)"
   ]
  },
  {
   "cell_type": "code",
   "execution_count": 28,
   "id": "17893ef0",
   "metadata": {},
   "outputs": [],
   "source": [
    "# save the results to records-style json file\n",
    "results_pizza.to_json(\"Data/yelp-search-new-york-pizza.json\", orient='records')"
   ]
  }
 ],
 "metadata": {
  "kernelspec": {
   "display_name": "Python (dojo-env)",
   "language": "python",
   "name": "dojo-env"
  },
  "language_info": {
   "codemirror_mode": {
    "name": "ipython",
    "version": 3
   },
   "file_extension": ".py",
   "mimetype": "text/x-python",
   "name": "python",
   "nbconvert_exporter": "python",
   "pygments_lexer": "ipython3",
   "version": "3.11.5"
  }
 },
 "nbformat": 4,
 "nbformat_minor": 5
}
